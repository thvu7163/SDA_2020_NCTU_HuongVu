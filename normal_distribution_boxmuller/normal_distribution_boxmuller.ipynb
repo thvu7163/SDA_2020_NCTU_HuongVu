{
 "cells": [
  {
   "cell_type": "markdown",
   "metadata": {},
   "source": [
    "## Drawing Normally-distributed samples with the Box-Muller method\n",
    "\n",
    "Assume we have two independent standard Normal random Cartesian variables $X$ and $Y$ follows standard normal distribution. The joint distribution $p(x,y)$ is:\n",
    "$$p(x,y) = p(x)p(y) = \\frac{1}{\\sqrt{2\\pi}}e^{-\\frac{x^2}{2}}\\frac{1}{\\sqrt{2\\pi}}e^{-\\frac{y^2}{2}} = \\frac{1}{2\\pi}e^{-\\frac{x^2 + y^2}{2}} $$\n",
    "\n",
    "In polar corordinates, $x^2 + y^2 = r^2$ where $x = r\\cos(\\theta)$ $y = r\\sin(\\theta)$\n",
    "\n",
    "then $p(x,y) = \\left ( \\frac{1}{2\\pi} \\right ) \\left ( e^{\\frac{-r^2}{2}} \\right )$\n",
    "\n",
    "which is the product of two density functions, an exponential distribution over squared radii: $r^2 \\sim Exp(\\frac{1}{2})$ and a uniform distribution over angles: $\\theta \\sim Unif(0,2\\pi)$\n",
    "\n",
    "Furthermore if we have:\n",
    "\n",
    "$Exp(\\lambda) = \\frac{-\\log (Unif(0,1))}{\\lambda}$\n",
    "\n",
    "then $r \\sim \\sqrt{-2\\log (Unif(0,1))}$\n",
    "\n",
    "So in order to generate a normal distrubution we can do as follows:\n",
    "\n",
    "1. Generate $u_1,u_2 \\sim Unif(0,1)$\n",
    "2. ransform the variables into radius and angle representation $r = \\sqrt{-2\\log(u_1)}$ , and $\\theta = 2\\pi u_2$ \n",
    "3. Transform radius and angle into Cartesian coordinates: $x = r \\cos(\\theta)$, $y = r \\sin(\\theta)$\n",
    "\n",
    "\n"
   ]
  },
  {
   "cell_type": "code",
   "execution_count": 4,
   "metadata": {},
   "outputs": [],
   "source": [
    "from numpy import random, sqrt, log, sin, cos, pi\n",
    "from pylab import show,hist,subplot,figure"
   ]
  },
  {
   "cell_type": "code",
   "execution_count": 5,
   "metadata": {},
   "outputs": [],
   "source": [
    "# transformation function\n",
    "def gaussian(u1,u2):\n",
    "  z1 = sqrt(-2*log(u1))*cos(2*pi*u2)\n",
    "  z2 = sqrt(-2*log(u1))*sin(2*pi*u2)\n",
    "  return z1,z2"
   ]
  },
  {
   "cell_type": "code",
   "execution_count": 8,
   "metadata": {},
   "outputs": [],
   "source": [
    "# uniformly distributed values between 0 and 1\n",
    "u1 = random.rand(1000)\n",
    "u2 = random.rand(1000)\n",
    "\n",
    "z1,z2 = gaussian(u1,u2)"
   ]
  },
  {
   "cell_type": "code",
   "execution_count": 11,
   "metadata": {},
   "outputs": [
    {
     "data": {
      "image/png": "[encoded data removed]",
      "text/plain": [
       "<Figure size 432x288 with 2 Axes>"
      ]
     },
     "metadata": {
      "needs_background": "light"
     },
     "output_type": "display_data"
    }
   ],
   "source": [
    "# plotting the values before and after the transformation\n",
    "figure()\n",
    "subplot(221)\n",
    "hist(z1)\n",
    "subplot(222)\n",
    "hist(z2)\n",
    "show()"
   ]
  }
 ],
 "metadata": {
  "kernelspec": {
   "display_name": "Python 3",
   "language": "python",
   "name": "python3"
  },
  "language_info": {
   "codemirror_mode": {
    "name": "ipython",
    "version": 3
   },
   "file_extension": ".py",
   "mimetype": "text/x-python",
   "name": "python",
   "nbconvert_exporter": "python",
   "pygments_lexer": "ipython3",
   "version": "3.8.3"
  }
 },
 "nbformat": 4,
 "nbformat_minor": 4
}
