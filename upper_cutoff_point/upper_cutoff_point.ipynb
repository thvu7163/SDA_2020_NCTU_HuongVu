{
 "cells": [
  {
   "cell_type": "code",
   "execution_count": 1,
   "metadata": {},
   "outputs": [],
   "source": [
    "from scipy.stats import norm\n",
    "import numpy as np\n",
    "import matplotlib.pyplot as plt"
   ]
  },
  {
   "cell_type": "markdown",
   "metadata": {},
   "source": [
    "Creating a function to calculate w - non-parametric criterion for outlier identification (Wilkinson et al.) of the normal distribution: $w=q_{75}+1.5(q_{75}-q_{25})$\n",
    "norm.ppf from spicy.stats can help us return the quantile of a Normal distribution, for example:"
   ]
  },
  {
   "cell_type": "code",
   "execution_count": 9,
   "metadata": {},
   "outputs": [
    {
     "data": {
      "text/plain": [
       "3.0234692505882452"
      ]
     },
     "execution_count": 9,
     "metadata": {},
     "output_type": "execute_result"
    }
   ],
   "source": [
    "mu=1\n",
    "sigma=3\n",
    "q=.75\n",
    "norm.ppf(q, loc=mu, scale=sigma)"
   ]
  },
  {
   "cell_type": "code",
   "execution_count": 26,
   "metadata": {},
   "outputs": [],
   "source": [
    "def calc_w(mu,sigma):\n",
    "    q75= norm.ppf(q=0.75, loc=mu, scale=sigma)\n",
    "    q25= norm.ppf(q=0.25, loc=mu, scale=sigma)\n",
    "    w=q75+1.5*(q75-q25)\n",
    "    return w"
   ]
  },
  {
   "cell_type": "markdown",
   "metadata": {},
   "source": [
    "After calculating $w$, we can define a function to calculate the probability that data points will lie outside our outlier identification: $P(x>w)$ when our data follows normal distribution. "
   ]
  },
  {
   "cell_type": "code",
   "execution_count": 40,
   "metadata": {},
   "outputs": [],
   "source": [
    "def calc_prob_outlier(w,mu,sigma):\n",
    "    prob=norm.sf(w,loc=mu,scale=sigma)\n",
    "    return prob"
   ]
  },
  {
   "cell_type": "code",
   "execution_count": 43,
   "metadata": {},
   "outputs": [
    {
     "name": "stdout",
     "output_type": "stream",
     "text": [
      "w= 8.4\n",
      "Probability of data outside the outlier identification= 0.35 %\n"
     ]
    }
   ],
   "source": [
    "mu=3\n",
    "sigma=2\n",
    "w=calc_w(mu,sigma)\n",
    "print(\"w=\",round(w,2))\n",
    "prob=calc_prob_outlier(w,mu,sigma)\n",
    "print(\"Probability of data outside the outlier identification=\",round(prob*100,2),\"%\")"
   ]
  },
  {
   "cell_type": "code",
   "execution_count": 68,
   "metadata": {},
   "outputs": [
    {
     "name": "stdout",
     "output_type": "stream",
     "text": [
      "Upper cut off point for Normal distrbition, mean: 3 standard deviation: 2\n"
     ]
    },
    {
     "data": {
      "image/png": "[encoded data removed]",
      "text/plain": [
       "<Figure size 432x288 with 1 Axes>"
      ]
     },
     "metadata": {
      "needs_background": "light"
     },
     "output_type": "display_data"
    }
   ],
   "source": [
    "print(\"Upper cut off point for Normal distrbition, mean:\",mu,\"standard deviation:\",sigma) \n",
    "fig, ax = plt.subplots()\n",
    "x= np.arange(-mu*2,mu*4,0.001)\n",
    "ax.plot(x, norm.pdf(x,loc=mu,scale=sigma))\n",
    "ax.set_xlabel('x')\n",
    "ax.set_ylabel('pdf(x)')\n",
    "ax.grid(True)\n",
    "px= np.arange(w,mu*4,0.001)\n",
    "ax.set_ylim(0,0.27)\n",
    "ax.fill_between(px,norm.pdf(px,loc=mu,scale=sigma),alpha=0.5, color='g')\n",
    "ax.text(mu-1,0.24,\"w= %.2f\" %w, fontsize=13)\n",
    "ax.text(mu-1,0.22,\"probability= %.6f\" %prob, fontsize=13)\n",
    "plt.show()"
   ]
  }
 ],
 "metadata": {
  "kernelspec": {
   "display_name": "Python 3",
   "language": "python",
   "name": "python3"
  },
  "language_info": {
   "codemirror_mode": {
    "name": "ipython",
    "version": 3
   },
   "file_extension": ".py",
   "mimetype": "text/x-python",
   "name": "python",
   "nbconvert_exporter": "python",
   "pygments_lexer": "ipython3",
   "version": "3.8.3"
  }
 },
 "nbformat": 4,
 "nbformat_minor": 4
}
